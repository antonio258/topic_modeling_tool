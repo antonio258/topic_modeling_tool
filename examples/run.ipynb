{
 "cells": [
  {
   "cell_type": "code",
   "execution_count": 1,
   "id": "initial_id",
   "metadata": {
    "collapsed": true,
    "ExecuteTime": {
     "end_time": "2024-04-03T13:03:18.038046Z",
     "start_time": "2024-04-03T13:03:12.998067Z"
    }
   },
   "outputs": [],
   "source": [
    "from tm_module.utils.reader import Reader\n",
    "from tm_module.nmf import NMF\n",
    "from tm_module.lda import LDA\n",
    "from tm_module.bertopic import BERTopic\n",
    "from tm_module.cluwords import CluWords"
   ]
  },
  {
   "cell_type": "code",
   "outputs": [],
   "source": [
    "reader = Reader(\n",
    "    path=\"your_path/data_pp.csv\",\n",
    "    id_column=\"id\",\n",
    "    text_column=\"text_pp\",\n",
    ")"
   ],
   "metadata": {
    "collapsed": false,
    "ExecuteTime": {
     "end_time": "2024-04-03T13:03:18.085819Z",
     "start_time": "2024-04-03T13:03:18.039425Z"
    }
   },
   "id": "8bddc7b785155704",
   "execution_count": 2
  },
  {
   "cell_type": "markdown",
   "source": [
    "## BERTopic"
   ],
   "metadata": {
    "collapsed": false
   },
   "id": "5de2ea33cee59ae1"
  },
  {
   "cell_type": "code",
   "outputs": [],
   "source": [
    "bertopic = BERTopic(reader)"
   ],
   "metadata": {
    "collapsed": false,
    "ExecuteTime": {
     "end_time": "2024-04-03T13:03:18.091330Z",
     "start_time": "2024-04-03T13:03:18.087498Z"
    }
   },
   "id": "dcb93065886265b4",
   "execution_count": 3
  },
  {
   "cell_type": "code",
   "outputs": [
    {
     "name": "stderr",
     "output_type": "stream",
     "text": [
      "2024-04-03 10:03:18,094 - BERTopic - Fitting the BERTopic model, n_samples=15041...\n",
      "2024-04-03 10:03:18,094 - BERTopic - INFO - Fitting the BERTopic model, n_samples=15041...\n",
      "2024-04-03 10:03:18,101 - BERTopic - Embedding - Transforming documents to embeddings.\n",
      "2024-04-03 10:03:18,101 - BERTopic - INFO - Embedding - Transforming documents to embeddings.\n"
     ]
    },
    {
     "data": {
      "text/plain": "Batches:   0%|          | 0/471 [00:00<?, ?it/s]",
      "application/vnd.jupyter.widget-view+json": {
       "version_major": 2,
       "version_minor": 0,
       "model_id": "f5161d1a1cef4140bb7365cfcdb7e432"
      }
     },
     "metadata": {},
     "output_type": "display_data"
    },
    {
     "name": "stderr",
     "output_type": "stream",
     "text": [
      "2024-04-03 10:03:37,322 - BERTopic - Embedding - Completed ✓\n",
      "2024-04-03 10:03:37,322 - BERTopic - INFO - Embedding - Completed ✓\n",
      "2024-04-03 10:03:37,323 - BERTopic - Dimensionality - Fitting the dimensionality reduction algorithm\n",
      "2024-04-03 10:03:37,323 - BERTopic - INFO - Dimensionality - Fitting the dimensionality reduction algorithm\n",
      "2024-04-03 10:03:56,939 - BERTopic - Dimensionality - Completed ✓\n",
      "2024-04-03 10:03:56,939 - BERTopic - INFO - Dimensionality - Completed ✓\n",
      "2024-04-03 10:03:56,940 - BERTopic - Cluster - Start clustering the reduced embeddings\n",
      "2024-04-03 10:03:56,940 - BERTopic - INFO - Cluster - Start clustering the reduced embeddings\n",
      "2024-04-03 10:04:11,400 - BERTopic - Cluster - Completed ✓\n",
      "2024-04-03 10:04:11,400 - BERTopic - INFO - Cluster - Completed ✓\n",
      "2024-04-03 10:04:11,401 - BERTopic - Representation - Extracting topics from clusters using representation models.\n",
      "2024-04-03 10:04:11,401 - BERTopic - INFO - Representation - Extracting topics from clusters using representation models.\n",
      "2024-04-03 10:04:11,798 - BERTopic - Representation - Completed ✓\n",
      "2024-04-03 10:04:11,798 - BERTopic - INFO - Representation - Completed ✓\n",
      "2024-04-03 10:04:11,799 - BERTopic - Topic reduction - Reducing number of topics\n",
      "2024-04-03 10:04:11,799 - BERTopic - INFO - Topic reduction - Reducing number of topics\n",
      "2024-04-03 10:04:12,234 - BERTopic - Topic reduction - Reduced number of topics from 217 to 10\n",
      "2024-04-03 10:04:12,234 - BERTopic - INFO - Topic reduction - Reduced number of topics from 217 to 10\n"
     ]
    },
    {
     "name": "stdout",
     "output_type": "stream",
     "text": [
      "['Topico -1', 'Topico 0', 'Topico 1', 'Topico 2', 'Topico 3', 'Topico 4', 'Topico 5', 'Topico 6', 'Topico 7', 'Topico 8']\n"
     ]
    },
    {
     "name": "stderr",
     "output_type": "stream",
     "text": [
      "100%|██████████| 16/16 [00:02<00:00,  6.26it/s]\n"
     ]
    },
    {
     "name": "stdout",
     "output_type": "stream",
     "text": [
      "(15041, 10) 15041\n"
     ]
    },
    {
     "data": {
      "text/plain": "[['nbsp',\n  'imagepng',\n  'atenciosamente',\n  'acesso',\n  'assunto',\n  'erro',\n  'somattos',\n  'integratio',\n  'coligada',\n  'feira'],\n ['',\n  'this',\n  'email',\n  'chamado',\n  'imagepng',\n  'mail',\n  'your',\n  'integratio',\n  'message',\n  'microsoft'],\n ['nbsp',\n  'coligada',\n  '',\n  'atenciosamente',\n  'erro',\n  'contrato',\n  'lancamento',\n  'fiscal',\n  'base',\n  'compra'],\n ['servidor',\n  'acesso',\n  'computador',\n  'rede',\n  'portal',\n  'lentidao',\n  'lento',\n  'firewall',\n  'internet',\n  'intranet'],\n ['telefone',\n  'tangerino',\n  'instalacao',\n  'bateria',\n  'outlook',\n  'android',\n  'obter',\n  'computador',\n  'ligacoes',\n  'maquina'],\n ['backup',\n  'monitoramento',\n  'backups',\n  'relatorio',\n  'resind',\n  'laticinios',\n  'servidores',\n  'rotina',\n  'babita',\n  'acessos'],\n ['teams',\n  'acesso',\n  'reuniao',\n  'consigo',\n  'outlook',\n  'reunioes',\n  'imagepng',\n  'somattos',\n  'funciona',\n  'entrar'],\n ['microfone',\n  'teclado',\n  'mouse',\n  'fone',\n  'audio',\n  'computador',\n  'troca',\n  'problema',\n  'camera',\n  'solicitacao'],\n ['font',\n  'style',\n  'family',\n  'margin',\n  'calibri',\n  'serif',\n  'sans',\n  'priority',\n  'color',\n  'msonormal'],\n ['ninja',\n  'agente',\n  'instalacao',\n  'documentacao',\n  'ninjarmm',\n  'monitoramento',\n  'bitdefender',\n  'servidor',\n  'evolution',\n  'servidores']]"
     },
     "execution_count": 4,
     "metadata": {},
     "output_type": "execute_result"
    }
   ],
   "source": [
    "bertopic.get_topics(\n",
    "    10,\n",
    "    10,\n",
    "    save_path=\"teste/bertopic/\",\n",
    "    language=\"portuguese\"\n",
    ")"
   ],
   "metadata": {
    "collapsed": false,
    "ExecuteTime": {
     "end_time": "2024-04-03T13:04:15.165085Z",
     "start_time": "2024-04-03T13:03:18.093318Z"
    }
   },
   "id": "4ca2f8e9511fa33e",
   "execution_count": 4
  },
  {
   "cell_type": "code",
   "outputs": [
    {
     "data": {
      "text/plain": "15041"
     },
     "execution_count": 5,
     "metadata": {},
     "output_type": "execute_result"
    }
   ],
   "source": [
    "reader.n_documents"
   ],
   "metadata": {
    "collapsed": false,
    "ExecuteTime": {
     "end_time": "2024-04-03T12:48:53.496879Z",
     "start_time": "2024-04-03T12:48:53.493519Z"
    }
   },
   "id": "bfe0a452fbc40496",
   "execution_count": 5
  },
  {
   "cell_type": "markdown",
   "source": [
    "## NMF"
   ],
   "metadata": {
    "collapsed": false
   },
   "id": "170d5cdfd696d19c"
  },
  {
   "cell_type": "code",
   "outputs": [],
   "source": [
    "nmf = NMF(reader)"
   ],
   "metadata": {
    "collapsed": false,
    "ExecuteTime": {
     "end_time": "2024-03-27T01:23:13.438401Z",
     "start_time": "2024-03-27T01:23:13.436450Z"
    }
   },
   "id": "204eff5a6fb9e12",
   "execution_count": 3
  },
  {
   "cell_type": "code",
   "outputs": [],
   "source": [
    "nmf.generate_representation()"
   ],
   "metadata": {
    "collapsed": false,
    "ExecuteTime": {
     "end_time": "2024-03-27T01:23:13.470465Z",
     "start_time": "2024-03-27T01:23:13.439320Z"
    }
   },
   "id": "d3683b7577e55138",
   "execution_count": 4
  },
  {
   "cell_type": "code",
   "outputs": [
    {
     "name": "stderr",
     "output_type": "stream",
     "text": [
      "2024-03-26 22:23:17,832 - NMF - INFO - Fitting the NMF model (kullback-leibler) with tf-idf features, n_samples=3376...\n"
     ]
    },
    {
     "name": "stdout",
     "output_type": "stream",
     "text": [
      "(3376, 8342) 3376\n"
     ]
    },
    {
     "data": {
      "text/plain": "[['backup',\n  'monitoramento',\n  'acessos',\n  'servidores',\n  'somattos',\n  'relatorio',\n  'resind',\n  'babita',\n  'laticinios',\n  'vitoria'],\n ['nbsp',\n  'pessoal',\n  'somattos',\n  'instagram',\n  'brtetumengenharia',\n  'brfacebook',\n  'luiza',\n  'departamento',\n  'karla',\n  'marilacksupervisora'],\n ['backups',\n  'efetuar',\n  'monitoramento',\n  'consultoria',\n  'everco',\n  'si',\n  'sites',\n  'fone',\n  'tet',\n  'bitdefender'],\n ['teste',\n  'chamado',\n  'treinamento',\n  'abertura',\n  'versao',\n  'recorrente',\n  'mail',\n  'sensrit',\n  'base',\n  'validacao'],\n ['nbsp',\n  'integratio',\n  'the',\n  'and',\n  'of',\n  'to',\n  'or',\n  'is',\n  'criminal',\n  'br'],\n ['contrato',\n  'conforme',\n  'suporte',\n  'atendimento',\n  'clientes',\n  'wazuh',\n  'inclusao',\n  'imagem',\n  'realizado',\n  'correcao'],\n ['acesso',\n  'acessar',\n  'dia',\n  'conseguindo',\n  'senha',\n  'consigo',\n  'rede',\n  'totvs',\n  'teams',\n  'rm'],\n ['formatar',\n  'maquina',\n  'sony',\n  'notebook',\n  'vaio',\n  'formatacao',\n  'acer',\n  'lenovo',\n  'samba',\n  'humberto'],\n ['nbsp',\n  'coligada',\n  'erro',\n  'att',\n  'dia',\n  'agmar',\n  'celso',\n  'movimento',\n  'relatorio',\n  'verificar'],\n ['instalacao',\n  'computador',\n  'telefone',\n  'vpn',\n  'impressora',\n  'instalar',\n  'configuracao',\n  'dia',\n  'contato',\n  'configurar']]"
     },
     "execution_count": 5,
     "metadata": {},
     "output_type": "execute_result"
    }
   ],
   "source": [
    "nmf.get_topics(10, 10, save_path=\"teste/nmf/\")"
   ],
   "metadata": {
    "collapsed": false,
    "ExecuteTime": {
     "end_time": "2024-03-27T01:23:18.788606Z",
     "start_time": "2024-03-27T01:23:17.831844Z"
    }
   },
   "id": "6d08eac9f875d145",
   "execution_count": 5
  },
  {
   "cell_type": "markdown",
   "source": [
    "## LDA"
   ],
   "metadata": {
    "collapsed": false
   },
   "id": "b4b9867434dd050c"
  },
  {
   "cell_type": "code",
   "outputs": [],
   "source": [
    "from tm_module.lda import LDA\n",
    "lda = LDA(reader)"
   ],
   "metadata": {
    "collapsed": false,
    "ExecuteTime": {
     "end_time": "2024-03-27T01:23:21.354350Z",
     "start_time": "2024-03-27T01:23:21.350709Z"
    }
   },
   "id": "520dd879a06d983b",
   "execution_count": 6
  },
  {
   "cell_type": "code",
   "outputs": [],
   "source": [
    "lda.generate_representation()"
   ],
   "metadata": {
    "collapsed": false,
    "ExecuteTime": {
     "end_time": "2024-03-27T01:23:22.321626Z",
     "start_time": "2024-03-27T01:23:22.290403Z"
    }
   },
   "id": "710ec1c5ad5b508",
   "execution_count": 7
  },
  {
   "cell_type": "code",
   "outputs": [
    {
     "name": "stderr",
     "output_type": "stream",
     "text": [
      "2024-03-26 22:23:24,388 - LDA - INFO - Fitting LDA models with tf features, n_samples=3376...\n"
     ]
    },
    {
     "name": "stdout",
     "output_type": "stream",
     "text": [
      "(3376, 8342) 3376\n"
     ]
    },
    {
     "data": {
      "text/plain": "[['nbsp',\n  'somattos',\n  'pessoal',\n  'luiza',\n  'dia',\n  'instagram',\n  'brfacebook',\n  'brtetumengenharia',\n  'coligada',\n  'acesso'],\n ['teste',\n  'mail',\n  'dados',\n  'string',\n  'nbsp',\n  'pessoais',\n  'uso',\n  'amp',\n  'faemg',\n  'boolean'],\n ['chamado',\n  'tecnico',\n  'suporte',\n  'resolvido',\n  'atendimentopelo',\n  'atendimento',\n  'augusto',\n  'gasto',\n  'br',\n  'ethosconsultores'],\n ['nbsp',\n  'integratio',\n  'the',\n  'and',\n  'of',\n  'to',\n  'or',\n  'is',\n  'criminal',\n  'br'],\n ['important',\n  'content',\n  'px',\n  'email',\n  'x',\n  'rem',\n  'margin',\n  'padding',\n  'font',\n  'item'],\n ['pm',\n  'lino',\n  'x',\n  'salviano',\n  'filho',\n  'flavio',\n  'servidores',\n  'pacote',\n  'cecilia',\n  'office'],\n ['backup',\n  'monitoramento',\n  'ap',\n  'frete',\n  'alexandre',\n  'tarefas',\n  'agropecuaria',\n  'marcos',\n  'serra',\n  'bicas'],\n ['efetuar',\n  'backups',\n  'monitoramento',\n  'relatorio',\n  'salvar',\n  'valores',\n  'solicitante',\n  'impressao',\n  'contabilidadeltda',\n  'whatsapp'],\n ['dia',\n  'acesso',\n  'computador',\n  'erro',\n  'acessar',\n  'vpn',\n  'conseguindo',\n  'servidor',\n  'consigo',\n  'verificar'],\n ['nbsp',\n  'br',\n  'gt',\n  'lt',\n  'dia',\n  'luiz',\n  'agmar',\n  'atenciosamente',\n  'freitas',\n  'coligada']]"
     },
     "execution_count": 8,
     "metadata": {},
     "output_type": "execute_result"
    }
   ],
   "source": [
    "lda.get_topics(10, 10, save_path=\"teste/lda/\")"
   ],
   "metadata": {
    "collapsed": false,
    "ExecuteTime": {
     "end_time": "2024-03-27T01:23:26.177356Z",
     "start_time": "2024-03-27T01:23:24.387808Z"
    }
   },
   "id": "dbab00cd901c1a90",
   "execution_count": 8
  },
  {
   "cell_type": "markdown",
   "source": [
    "## Cluwords"
   ],
   "metadata": {
    "collapsed": false
   },
   "id": "93dec3625f414d36"
  },
  {
   "cell_type": "code",
   "outputs": [],
   "source": "clu = CluWords(reader)",
   "metadata": {
    "collapsed": false,
    "ExecuteTime": {
     "end_time": "2024-03-27T01:23:27.154684Z",
     "start_time": "2024-03-27T01:23:27.107665Z"
    }
   },
   "id": "25cfd36d01d38fae",
   "execution_count": 9
  },
  {
   "cell_type": "code",
   "outputs": [
    {
     "name": "stderr",
     "output_type": "stream",
     "text": [
      "2024-03-26 22:23:52,715 - CluWords - INFO - building embedding...\n",
      "2024-03-26 22:24:32,491 - CluWords - INFO - Number of cluwords 5903\n",
      "2024-03-26 22:24:32,497 - CluWords - INFO - creating cluwords...\n",
      "2024-03-26 22:24:32,993 - CluWords - INFO - getting cosine similarity...\n",
      "2024-03-26 22:24:33,914 - CluWords - INFO - filtering cluwords...\n",
      "2024-03-26 22:24:36,250 - CluWords - INFO - calculating cluwords tf...\n",
      "2024-03-26 22:24:36,274 - CluWords - INFO - tf shape (3376, 5903)\n",
      "2024-03-26 22:24:36,531 - CluWords - INFO - calculating cluwords idf\n",
      "2024-03-26 22:24:36,586 - CluWords - INFO - Divide hyp_aux by itself\n",
      "2024-03-26 22:24:36,591 - CluWords - INFO - Dot tf and bin hyp_aux\n",
      "2024-03-26 22:24:36,649 - CluWords - INFO - Divide _dot and _dot_bin\n",
      "2024-03-26 22:24:36,669 - CluWords - INFO - Sum\n",
      "2024-03-26 22:24:36,673 - CluWords - INFO - log\n"
     ]
    },
    {
     "name": "stdout",
     "output_type": "stream",
     "text": [
      "(3376, 5903)\n",
      "(3376, 5903)\n"
     ]
    },
    {
     "name": "stderr",
     "output_type": "stream",
     "text": [
      "2024-03-26 22:24:36,802 - CluWords - INFO - time for create cluwords: 0.7347925901412964\n"
     ]
    }
   ],
   "source": [
    "clu.generate_representation(\n",
    "    embedding_file=\"your_path/embeddings/embedding.vec\",\n",
    "    embedding_binary=False,\n",
    "    k_neighbors=500,\n",
    "    n_threads=20,\n",
    "    threshold=0.4\n",
    ")"
   ],
   "metadata": {
    "collapsed": false,
    "ExecuteTime": {
     "end_time": "2024-03-27T01:24:36.805051Z",
     "start_time": "2024-03-27T01:23:52.714662Z"
    }
   },
   "id": "f37cf1cf1f411619",
   "execution_count": 11
  },
  {
   "cell_type": "code",
   "outputs": [
    {
     "name": "stderr",
     "output_type": "stream",
     "text": [
      "2024-03-26 22:24:36,806 - CluWords - INFO - \n",
      "Fitting the NMF model (kullback-leibler) with CluWords-IDF features, n_samples=3376 and n_features=5903...\n",
      "2024-03-26 22:25:26,777 - CluWords - INFO - time for NMF: 0.8328479647636413\n"
     ]
    },
    {
     "name": "stdout",
     "output_type": "stream",
     "text": [
      "(3376, 5903) 3376\n"
     ]
    },
    {
     "data": {
      "text/plain": "[['queira',\n  'esclarecemos',\n  'aguarde',\n  'realmente',\n  'procurem',\n  'possamos',\n  'preciso',\n  'responda',\n  'espero',\n  'pedi'],\n ['monitoramento',\n  'backup',\n  'recarga',\n  'suporte',\n  'clipagem',\n  'remoto',\n  'gerenciando',\n  'operacional',\n  'armazenamento',\n  'escalonamento'],\n ['statement',\n  'contained',\n  'responsible',\n  'advised',\n  'unable',\n  'addressed',\n  'returned',\n  'allow',\n  'immediately',\n  'otherwise'],\n ['nbsp',\n  'span',\n  'uppercase',\n  'defaults',\n  'length',\n  'invalid',\n  'neusa',\n  'maciel',\n  'fernanda',\n  'moreira'],\n ['roteador',\n  'aplicativo',\n  'computadores',\n  'openvpn',\n  'voip',\n  'bluetooth',\n  'smartphone',\n  'vpns',\n  'server',\n  'onedrive'],\n ['teste',\n  'exame',\n  'falha',\n  'positivo',\n  'treinamento',\n  'reprovado',\n  'defeito',\n  'hemograma',\n  'vendo',\n  'saindo'],\n ['pagamentos',\n  'faturamento',\n  'descontos',\n  'investimento',\n  'mensalidade',\n  'vencimentos',\n  'comprador',\n  'despesas',\n  'fgts',\n  'custos'],\n ['publicacao',\n  'aprovacao',\n  'legislacao',\n  'esao',\n  'acao',\n  'marcacao',\n  'administracao',\n  'situacao',\n  'consideracao',\n  'notificacao'],\n ['formatada',\n  'erro',\n  'corrigida',\n  'texto',\n  'desatualizado',\n  'leiaute',\n  'calculo',\n  'redirecionamento',\n  'digitou',\n  'acertei'],\n ['realizar',\n  'ativar',\n  'obter',\n  'agendar',\n  'direcionar',\n  'selecionar',\n  'transferir',\n  'liberar',\n  'efetuar',\n  'criar']]"
     },
     "execution_count": 12,
     "metadata": {},
     "output_type": "execute_result"
    }
   ],
   "source": [
    "clu.get_topics(10, 10, save_path=\"teste/cluwords/\")"
   ],
   "metadata": {
    "collapsed": false,
    "ExecuteTime": {
     "end_time": "2024-03-27T01:25:32.967766Z",
     "start_time": "2024-03-27T01:24:36.806004Z"
    }
   },
   "id": "41ed564f8e08f3f6",
   "execution_count": 12
  },
  {
   "cell_type": "code",
   "outputs": [],
   "source": [
    "\n"
   ],
   "metadata": {
    "collapsed": false
   },
   "id": "24772ecf4afad353",
   "execution_count": null
  }
 ],
 "metadata": {
  "kernelspec": {
   "display_name": "Python 3",
   "language": "python",
   "name": "python3"
  },
  "language_info": {
   "codemirror_mode": {
    "name": "ipython",
    "version": 2
   },
   "file_extension": ".py",
   "mimetype": "text/x-python",
   "name": "python",
   "nbconvert_exporter": "python",
   "pygments_lexer": "ipython2",
   "version": "2.7.6"
  }
 },
 "nbformat": 4,
 "nbformat_minor": 5
}
